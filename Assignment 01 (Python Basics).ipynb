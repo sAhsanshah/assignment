{
 "cells": [
  {
   "cell_type": "markdown",
   "metadata": {},
   "source": [
    "# Part -1 Python Basics (Variables)"
   ]
  },
  {
   "cell_type": "markdown",
   "metadata": {},
   "source": [
    "1. Print Your Name with your Father name and Date of birth using suitable escape sequence charactor"
   ]
  },
  {
   "cell_type": "code",
   "execution_count": 1,
   "metadata": {},
   "outputs": [
    {
     "name": "stdout",
     "output_type": "stream",
     "text": [
      "Name:\tJohn Doe\n",
      "Father's Name:\tRichard Doe\n",
      "Date of Birth:\t01\\01\\2000\n"
     ]
    }
   ],
   "source": [
    "print(\"Name:\\tJohn Doe\\nFather's Name:\\tRichard Doe\\nDate of Birth:\\t01\\\\01\\\\2000\")\n"
   ]
  },
  {
   "cell_type": "markdown",
   "metadata": {},
   "source": [
    "2. Write your small bio using variables and print it using print function"
   ]
  },
  {
   "cell_type": "code",
   "execution_count": 2,
   "metadata": {},
   "outputs": [
    {
     "name": "stdout",
     "output_type": "stream",
     "text": [
      "Bio:\n",
      "Name:\t\t John Doe\n",
      "Father's Name:\t Richard Doe\n",
      "Date of Birth:\t 01\\01\\2000\n",
      "Hobby:\t\t Reading books\n",
      "Profession:\t Software Developer\n"
     ]
    }
   ],
   "source": [
    "# Write your code here# Defining variables\n",
    "name = \"John Doe\"\n",
    "father_name = \"Richard Doe\"\n",
    "dob = \"01\\\\01\\\\2000\"\n",
    "hobby = \"Reading books\"\n",
    "profession = \"Software Developer\"\n",
    "\n",
    "# Printing the bio\n",
    "print(\"Bio:\")\n",
    "print(\"Name:\\t\\t\", name)\n",
    "print(\"Father's Name:\\t\", father_name)\n",
    "print(\"Date of Birth:\\t\", dob)\n",
    "print(\"Hobby:\\t\\t\", hobby)\n",
    "print(\"Profession:\\t\", profession)\n"
   ]
  },
  {
   "cell_type": "markdown",
   "metadata": {},
   "source": [
    "3. Write a program in which use all the operators we can use in Python"
   ]
  },
  {
   "cell_type": "code",
   "execution_count": 3,
   "metadata": {},
   "outputs": [
    {
     "name": "stdout",
     "output_type": "stream",
     "text": [
      "===== Arithmetic Operators =====\n",
      "a + b = 13\n",
      "a - b = 7\n",
      "a * b = 30\n",
      "a / b = 3.3333333333333335\n",
      "a % b = 1\n",
      "a ** b = 1000\n",
      "a // b = 3\n",
      "\n",
      "===== Assignment Operators =====\n",
      "x += 1 => 11\n",
      "x -= 1 => 10\n",
      "x *= 2 => 20\n",
      "x /= 2 => 10.0\n",
      "x %= 3 => 1.0\n",
      "x **= 2 => 1.0\n",
      "x //= 2 => 0.0\n",
      "\n",
      "===== Comparison Operators =====\n",
      "a == b: False\n",
      "a != b: True\n",
      "a > b: True\n",
      "a < b: False\n",
      "a >= b: True\n",
      "a <= b: False\n",
      "\n",
      "===== Logical Operators =====\n",
      "a > 5 and b < 5: True\n",
      "a > 5 or b > 5: True\n",
      "not(a > 5): False\n",
      "\n",
      "===== Bitwise Operators =====\n",
      "a & b = 2\n",
      "a | b = 11\n",
      "a ^ b = 9\n",
      "~a = -11\n",
      "a << 1 = 20\n",
      "a >> 1 = 5\n",
      "\n",
      "===== Identity Operators =====\n",
      "a is b: False\n",
      "a is not b: True\n",
      "\n",
      "===== Membership Operators =====\n",
      "a in lst: True\n",
      "b not in lst: False\n"
     ]
    }
   ],
   "source": [
    "# --- Variables ---\n",
    "a = 10\n",
    "b = 3\n",
    "lst = [1, 2, 3, 10]\n",
    "x = a\n",
    "y = b\n",
    "\n",
    "print(\"===== Arithmetic Operators =====\")\n",
    "print(\"a + b =\", a + b)\n",
    "print(\"a - b =\", a - b)\n",
    "print(\"a * b =\", a * b)\n",
    "print(\"a / b =\", a / b)\n",
    "print(\"a % b =\", a % b)\n",
    "print(\"a ** b =\", a ** b)\n",
    "print(\"a // b =\", a // b)  # Floor division\n",
    "\n",
    "print(\"\\n===== Assignment Operators =====\")\n",
    "x += 1\n",
    "print(\"x += 1 =>\", x)\n",
    "x -= 1\n",
    "print(\"x -= 1 =>\", x)\n",
    "x *= 2\n",
    "print(\"x *= 2 =>\", x)\n",
    "x /= 2\n",
    "print(\"x /= 2 =>\", x)\n",
    "x %= 3\n",
    "print(\"x %= 3 =>\", x)\n",
    "x **= 2\n",
    "print(\"x **= 2 =>\", x)\n",
    "x //= 2\n",
    "print(\"x //= 2 =>\", x)\n",
    "\n",
    "print(\"\\n===== Comparison Operators =====\")\n",
    "print(\"a == b:\", a == b)\n",
    "print(\"a != b:\", a != b)\n",
    "print(\"a > b:\", a > b)\n",
    "print(\"a < b:\", a < b)\n",
    "print(\"a >= b:\", a >= b)\n",
    "print(\"a <= b:\", a <= b)\n",
    "\n",
    "print(\"\\n===== Logical Operators =====\")\n",
    "print(\"a > 5 and b < 5:\", a > 5 and b < 5)\n",
    "print(\"a > 5 or b > 5:\", a > 5 or b > 5)\n",
    "print(\"not(a > 5):\", not(a > 5))\n",
    "\n",
    "print(\"\\n===== Bitwise Operators =====\")\n",
    "print(\"a & b =\", a & b)\n",
    "print(\"a | b =\", a | b)\n",
    "print(\"a ^ b =\", a ^ b)\n",
    "print(\"~a =\", ~a)\n",
    "print(\"a << 1 =\", a << 1)\n",
    "print(\"a >> 1 =\", a >> 1)\n",
    "\n",
    "print(\"\\n===== Identity Operators =====\")\n",
    "print(\"a is b:\", a is b)\n",
    "print(\"a is not b:\", a is not b)\n",
    "\n",
    "print(\"\\n===== Membership Operators =====\")\n",
    "print(\"a in lst:\", a in lst)\n",
    "print(\"b not in lst:\", b not in lst)\n"
   ]
  },
  {
   "cell_type": "markdown",
   "metadata": {},
   "source": [
    "4. Completes the following steps of small task:\n",
    "    - Mention Marks of English , Islamiat and Maths out of 100 in 3 different variables\n",
    "    - Mention Variable of Total Marks and assign 300 to it\n",
    "    - Calculate Percentage"
   ]
  },
  {
   "cell_type": "code",
   "execution_count": 4,
   "metadata": {},
   "outputs": [
    {
     "name": "stdout",
     "output_type": "stream",
     "text": [
      "===== Student Marks Report =====\n",
      "English Marks:  85\n",
      "Islamiat Marks: 78\n",
      "Maths Marks:    92\n",
      "Total Marks:    300\n",
      "Obtained Marks: 255\n",
      "Percentage:     85.0 %\n"
     ]
    }
   ],
   "source": [
    "# Step 1: Marks of 3 subjects\n",
    "english_marks = 85\n",
    "islamiat_marks = 78\n",
    "maths_marks = 92\n",
    "\n",
    "# Step 2: Total marks\n",
    "total_marks = 300\n",
    "\n",
    "# Step 3: Calculate obtained marks\n",
    "obtained_marks = english_marks + islamiat_marks + maths_marks\n",
    "\n",
    "# Step 4: Calculate percentage\n",
    "percentage = (obtained_marks / total_marks) * 100\n",
    "\n",
    "# Step 5: Print results\n",
    "print(\"===== Student Marks Report =====\")\n",
    "print(\"English Marks: \", english_marks)\n",
    "print(\"Islamiat Marks:\", islamiat_marks)\n",
    "print(\"Maths Marks:   \", maths_marks)\n",
    "print(\"Total Marks:   \", total_marks)\n",
    "print(\"Obtained Marks:\", obtained_marks)\n",
    "print(\"Percentage:    \", percentage, \"%\")\n"
   ]
  },
  {
   "cell_type": "markdown",
   "metadata": {},
   "source": [
    "# Part -2 Python Basics (Conditional Statements)"
   ]
  },
  {
   "cell_type": "markdown",
   "metadata": {},
   "source": [
    "1) A company decided to give bonus of 5% to employee if his/her year of service is more than 5 years.\n",
    "Ask user for their salary and year of service and print the net bonus amount."
   ]
  },
  {
   "cell_type": "code",
   "execution_count": 6,
   "metadata": {},
   "outputs": [
    {
     "name": "stdin",
     "output_type": "stream",
     "text": [
      "Enter your current salary:  7\n",
      "Enter your years of service:  6\n"
     ]
    },
    {
     "name": "stdout",
     "output_type": "stream",
     "text": [
      "You are eligible for a bonus.\n",
      "Your bonus amount is: Rs. 0.35000000000000003\n"
     ]
    }
   ],
   "source": [
    "# Get input from user\n",
    "salary = float(input(\"Enter your current salary: \"))\n",
    "years_of_service = int(input(\"Enter your years of service: \"))\n",
    "\n",
    "# Check eligibility and calculate bonus\n",
    "if years_of_service > 5:\n",
    "    bonus = salary * 0.05\n",
    "    print(\"You are eligible for a bonus.\")\n",
    "    print(\"Your bonus amount is: Rs.\", bonus)\n",
    "else:\n",
    "    print(\"You are not eligible for a bonus.\")\n"
   ]
  },
  {
   "cell_type": "markdown",
   "metadata": {},
   "source": [
    "\n",
    "2) Write a program to check whether a person is eligible for voting or not. (accept age from user) if age is greater than 17 eligible otherwise not eligible"
   ]
  },
  {
   "cell_type": "code",
   "execution_count": 9,
   "metadata": {},
   "outputs": [
    {
     "name": "stdin",
     "output_type": "stream",
     "text": [
      "Enter your age:  23\n"
     ]
    },
    {
     "name": "stdout",
     "output_type": "stream",
     "text": [
      "You are eligible for voting.\n"
     ]
    }
   ],
   "source": [
    "# Get age input from user\n",
    "age = int(input(\"Enter your age: \"))\n",
    "\n",
    "# Check voting eligibility\n",
    "if age > 17:\n",
    "    print(\"You are eligible for voting.\")\n",
    "else:\n",
    "    print(\"You are not eligible for voting.\")\n"
   ]
  },
  {
   "cell_type": "markdown",
   "metadata": {},
   "source": [
    "\n",
    "3) Write a program to check whether a number entered by user is even or odd."
   ]
  },
  {
   "cell_type": "code",
   "execution_count": 12,
   "metadata": {},
   "outputs": [
    {
     "name": "stdin",
     "output_type": "stream",
     "text": [
      "Enter a number:  2\n"
     ]
    },
    {
     "name": "stdout",
     "output_type": "stream",
     "text": [
      "The number is even.\n"
     ]
    }
   ],
   "source": [
    "# Get number input from user\n",
    "number = int(input(\"Enter a number: \"))\n",
    "\n",
    "# Check if the number is even or odd\n",
    "if number % 2 == 0:\n",
    "    print(\"The number is even.\")\n",
    "else:\n",
    "    print(\"The number is odd.\")\n"
   ]
  },
  {
   "cell_type": "markdown",
   "metadata": {},
   "source": [
    "4) Write a program to check whether a number is divisible by 7 or not.\n",
    "Show Answer"
   ]
  },
  {
   "cell_type": "code",
   "execution_count": 13,
   "metadata": {},
   "outputs": [
    {
     "name": "stdin",
     "output_type": "stream",
     "text": [
      "Enter a number:  8\n"
     ]
    },
    {
     "name": "stdout",
     "output_type": "stream",
     "text": [
      "The number is NOT divisible by 7.\n"
     ]
    }
   ],
   "source": [
    "#Type your code here# Get number input from user\n",
    "number = int(input(\"Enter a number: \"))\n",
    "\n",
    "# Check divisibility by 7\n",
    "if number % 7 == 0:\n",
    "    print(\"The number is divisible by 7.\")\n",
    "else:\n",
    "    print(\"The number is NOT divisible by 7.\")\n"
   ]
  },
  {
   "cell_type": "markdown",
   "metadata": {},
   "source": [
    "5) Write a program to display \n",
    "\"Hello\" if a number entered by user is a multiple of five , otherwise print \"Bye\"."
   ]
  },
  {
   "cell_type": "code",
   "execution_count": 14,
   "metadata": {},
   "outputs": [
    {
     "name": "stdin",
     "output_type": "stream",
     "text": [
      "Enter a number:  5\n"
     ]
    },
    {
     "name": "stdout",
     "output_type": "stream",
     "text": [
      "Hello\n"
     ]
    }
   ],
   "source": [
    "# Get number input from user\n",
    "number = int(input(\"Enter a number: \"))\n",
    "\n",
    "# Check if the number is a multiple of 5\n",
    "if number % 5 == 0:\n",
    "    print(\"Hello\")\n",
    "else:\n",
    "    print(\"Bye\")\n"
   ]
  },
  {
   "cell_type": "markdown",
   "metadata": {},
   "source": [
    "7) Write a program to display the last digit of a number.\n"
   ]
  },
  {
   "cell_type": "code",
   "execution_count": 15,
   "metadata": {},
   "outputs": [
    {
     "name": "stdin",
     "output_type": "stream",
     "text": [
      "Enter a number:  10\n"
     ]
    },
    {
     "name": "stdout",
     "output_type": "stream",
     "text": [
      "The last digit of the number is: 0\n"
     ]
    }
   ],
   "source": [
    "# Get number input from user\n",
    "number = int(input(\"Enter a number: \"))\n",
    "\n",
    "# Get the last digit\n",
    "last_digit = abs(number) % 10  # abs() to handle negative numbers\n",
    "\n",
    "# Display the last digit\n",
    "print(\"The last digit of the number is:\", last_digit)\n"
   ]
  },
  {
   "cell_type": "markdown",
   "metadata": {},
   "source": [
    "9) Take values of length and breadth of a rectangle from user and print if it is square or rectangle."
   ]
  },
  {
   "cell_type": "code",
   "execution_count": 16,
   "metadata": {},
   "outputs": [
    {
     "name": "stdin",
     "output_type": "stream",
     "text": [
      "Enter the length:  10\n",
      "Enter the breadth:  50\n"
     ]
    },
    {
     "name": "stdout",
     "output_type": "stream",
     "text": [
      "It is a rectangle.\n"
     ]
    }
   ],
   "source": [
    "# Take input from user\n",
    "length = float(input(\"Enter the length: \"))\n",
    "breadth = float(input(\"Enter the breadth: \"))\n",
    "\n",
    "# Check if it's a square or rectangle\n",
    "if length == breadth:\n",
    "    print(\"It is a square.\")\n",
    "else:\n",
    "    print(\"It is a rectangle.\")\n"
   ]
  },
  {
   "cell_type": "markdown",
   "metadata": {},
   "source": [
    "10) Take two int values from user and print greatest among them."
   ]
  },
  {
   "cell_type": "code",
   "execution_count": 17,
   "metadata": {},
   "outputs": [
    {
     "name": "stdin",
     "output_type": "stream",
     "text": [
      "Enter first number:  1\n",
      "Enter second number:  2\n"
     ]
    },
    {
     "name": "stdout",
     "output_type": "stream",
     "text": [
      "The greatest number is: 2\n"
     ]
    }
   ],
   "source": [
    "# Take two integers as input\n",
    "num1 = int(input(\"Enter first number: \"))\n",
    "num2 = int(input(\"Enter second number: \"))\n",
    "\n",
    "# Check which number is greater\n",
    "if num1 > num2:\n",
    "    print(f\"The greatest number is: {num1}\")\n",
    "elif num2 > num1:\n",
    "    print(f\"The greatest number is: {num2}\")\n",
    "else:\n",
    "    print(\"Both numbers are equal.\")\n"
   ]
  },
  {
   "cell_type": "markdown",
   "metadata": {},
   "source": [
    "11) A shop will give discount of 10% if the cost of purchased quantity is more than 1000.\n",
    "Ask user for quantity\n",
    "Suppose, one unit will cost 100.\n",
    "Judge and print total cost for user."
   ]
  },
  {
   "cell_type": "code",
   "execution_count": 18,
   "metadata": {},
   "outputs": [
    {
     "name": "stdin",
     "output_type": "stream",
     "text": [
      "Enter the quantity purchased:  1\n"
     ]
    },
    {
     "name": "stdout",
     "output_type": "stream",
     "text": [
      "No discount applied.\n",
      "Total cost to pay: Rs. 100\n"
     ]
    }
   ],
   "source": [
    "# Unit cost\n",
    "unit_cost = 100\n",
    "\n",
    "# Get quantity from user\n",
    "quantity = int(input(\"Enter the quantity purchased: \"))\n",
    "\n",
    "# Calculate total cost before discount\n",
    "total_cost = quantity * unit_cost\n",
    "\n",
    "# Apply discount if total cost is more than 1000\n",
    "if total_cost > 1000:\n",
    "    discount = total_cost * 0.10\n",
    "    total_cost -= discount\n",
    "    print(f\"Discount applied: Rs. {discount}\")\n",
    "else:\n",
    "    print(\"No discount applied.\")\n",
    "\n",
    "# Print final total cost\n",
    "print(f\"Total cost to pay: Rs. {total_cost}\")\n"
   ]
  },
  {
   "cell_type": "markdown",
   "metadata": {},
   "source": [
    "12) A school has following rules for grading system:\n",
    "\n",
    "a. Below 25 - F\n",
    "\n",
    "b. 25 to 45 - E\n",
    "\n",
    "c. 45 to 50 - D\n",
    "\n",
    "d. 50 to 60 - C\n",
    "\n",
    "e. 60 to 80 - B\n",
    "\n",
    "f. Above 80 - A\n",
    "\n",
    "Ask user to enter marks and print the corresponding grade."
   ]
  },
  {
   "cell_type": "code",
   "execution_count": 27,
   "metadata": {},
   "outputs": [
    {
     "name": "stdin",
     "output_type": "stream",
     "text": [
      "Enter marks obtained:  80\n"
     ]
    },
    {
     "name": "stdout",
     "output_type": "stream",
     "text": [
      "The grade for marks 80.0 is: A\n"
     ]
    }
   ],
   "source": [
    "# Get marks input from user\n",
    "marks = float(input(\"Enter marks obtained: \"))\n",
    "\n",
    "# Determine the grade based on marks\n",
    "if marks < 0 or marks > 100:\n",
    "    print(\"Invalid marks entered. Please enter marks between 0 and 100.\")\n",
    "elif marks < 25:\n",
    "    grade = 'F'\n",
    "elif marks < 45:\n",
    "    grade = 'E'\n",
    "elif marks < 50:\n",
    "    grade = 'D'\n",
    "elif marks < 60:\n",
    "    grade = 'C'\n",
    "elif marks < 80:\n",
    "    grade = 'B'\n",
    "else:\n",
    "    grade = 'A'\n",
    "\n",
    "# Print the grade\n",
    "print(f\"The grade for marks {marks} is: {grade}\")\n"
   ]
  },
  {
   "cell_type": "markdown",
   "metadata": {},
   "source": [
    "14)A student will not be allowed to sit in exam if his/her attendence is less than 75%.\n",
    "\n",
    "Take following input from user\n",
    "\n",
    "- Number of classes held\n",
    "\n",
    "- Number of classes attended.\n",
    "\n",
    "And print\n",
    "\n",
    "- percentage of class attended\n",
    "\n",
    "- Is student is allowed to sit in exam or not.\n"
   ]
  },
  {
   "cell_type": "code",
   "execution_count": 20,
   "metadata": {},
   "outputs": [
    {
     "name": "stdin",
     "output_type": "stream",
     "text": [
      "Enter marks obtained:  80\n"
     ]
    },
    {
     "name": "stdout",
     "output_type": "stream",
     "text": [
      "The grade for marks 80.0 is: A\n"
     ]
    }
   ],
   "source": [
    "# Get marks input from user\n",
    "marks = float(input(\"Enter marks obtained: \"))\n",
    "\n",
    "# Determine the grade based on marks\n",
    "if marks < 0 or marks > 100:\n",
    "    print(\"Invalid marks entered. Please enter marks between 0 and 100.\")\n",
    "elif marks < 25:\n",
    "    grade = 'F'\n",
    "elif marks < 45:\n",
    "    grade = 'E'\n",
    "elif marks < 50:\n",
    "    grade = 'D'\n",
    "elif marks < 60:\n",
    "    grade = 'C'\n",
    "elif marks < 80:\n",
    "    grade = 'B'\n",
    "else:\n",
    "    grade = 'A'\n",
    "\n",
    "# Print the grade\n",
    "print(f\"The grade for marks {marks} is: {grade}\")\n"
   ]
  },
  {
   "cell_type": "markdown",
   "metadata": {},
   "source": [
    "15) Modify the above question to allow student to sit if he/she has medical cause. Ask user if he/she has medical cause or not ( 'Y' or 'N' ) and print accordingly."
   ]
  },
  {
   "cell_type": "code",
   "execution_count": 23,
   "metadata": {},
   "outputs": [
    {
     "name": "stdin",
     "output_type": "stream",
     "text": [
      "Enter marks obtained:  5\n",
      "Do you have a medical cause? (Y/N):  y\n"
     ]
    },
    {
     "name": "stdout",
     "output_type": "stream",
     "text": [
      "You are allowed to sit due to medical cause.\n"
     ]
    }
   ],
   "source": [
    "# Get marks input from user\n",
    "marks = float(input(\"Enter marks obtained: \"))\n",
    "\n",
    "# Ask if the student has medical cause\n",
    "medical_cause = input(\"Do you have a medical cause? (Y/N): \").strip().upper()\n",
    "\n",
    "if medical_cause == 'Y':\n",
    "    print(\"You are allowed to sit due to medical cause.\")\n",
    "else:\n",
    "    # No medical cause, apply grading and eligibility rules\n",
    "    if marks < 0 or marks > 100:\n",
    "        print(\"Invalid marks entered. Please enter marks between 0 and 100.\")\n",
    "    elif marks < 25:\n",
    "        print(\"Grade: F\")\n",
    "        print(\"You are not allowed to sit.\")\n",
    "    elif marks < 45:\n",
    "        print(\"Grade: E\")\n",
    "        print(\"You are allowed to sit.\")\n",
    "    elif marks < 50:\n",
    "        print(\"Grade: D\")\n",
    "        print(\"You are allowed to sit.\")\n",
    "    elif marks < 60:\n",
    "        print(\"Grade: C\")\n",
    "        print(\"You are allowed to sit.\")\n",
    "    elif marks < 80:\n",
    "        print(\"Grade: B\")\n",
    "        print(\"You are allowed to sit.\")\n",
    "    else:\n",
    "        print(\"Grade: A\")\n",
    "        print(\"You are allowed to sit.\")\n"
   ]
  },
  {
   "cell_type": "markdown",
   "metadata": {},
   "source": [
    "16) Write a program to check if a year is leap year or not.\n",
    "\n",
    "If a year is divisible by 4 then it is leap year but if the year is century year like 2000, 1900, 2100 then it must be divisible by 400."
   ]
  },
  {
   "cell_type": "code",
   "execution_count": 24,
   "metadata": {},
   "outputs": [
    {
     "name": "stdin",
     "output_type": "stream",
     "text": [
      "Enter a year:  100\n"
     ]
    },
    {
     "name": "stdout",
     "output_type": "stream",
     "text": [
      "100 is NOT a leap year.\n"
     ]
    }
   ],
   "source": [
    "# Get year input from user\n",
    "year = int(input(\"Enter a year: \"))\n",
    "\n",
    "# Check for leap year\n",
    "if (year % 4 == 0):\n",
    "    if (year % 100 == 0):\n",
    "        if (year % 400 == 0):\n",
    "            print(f\"{year} is a leap year.\")\n",
    "        else:\n",
    "            print(f\"{year} is NOT a leap year.\")\n",
    "    else:\n",
    "        print(f\"{year} is a leap year.\")\n",
    "else:\n",
    "    print(f\"{year} is NOT a leap year.\")\n"
   ]
  },
  {
   "cell_type": "markdown",
   "metadata": {},
   "source": [
    "17) Ask user to enter age, gender ( M or F ), marital status ( Y or N ) and then using following rules print their place of service.\n",
    "\n",
    "if employee is female, then she will work only in urban areas.\n",
    "\n",
    "if employee is a male and age is in between 20 to 40 then he may work in anywhere\n",
    "\n",
    "if employee is male and age is in between 40 t0 60 then he will work in urban areas only.\n",
    "\n",
    "And any other input of age should print \"ERROR\""
   ]
  },
  {
   "cell_type": "code",
   "execution_count": 25,
   "metadata": {},
   "outputs": [
    {
     "name": "stdin",
     "output_type": "stream",
     "text": [
      "Enter your age:  23\n",
      "Enter your gender (M/F):  M\n",
      "Enter your marital status (Y/N):  Y\n"
     ]
    },
    {
     "name": "stdout",
     "output_type": "stream",
     "text": [
      "You may work anywhere.\n"
     ]
    }
   ],
   "source": [
    "# Get inputs from user\n",
    "age = int(input(\"Enter your age: \"))\n",
    "gender = input(\"Enter your gender (M/F): \").strip().upper()\n",
    "marital_status = input(\"Enter your marital status (Y/N): \").strip().upper()\n",
    "\n",
    "# Check age validity\n",
    "if age < 20 or age > 60:\n",
    "    print(\"ERROR\")\n",
    "else:\n",
    "    if gender == 'F':\n",
    "        # Female employee works only in urban areas\n",
    "        print(\"You will work in urban areas only.\")\n",
    "    elif gender == 'M':\n",
    "        # Male employee conditions\n",
    "        if 20 <= age <= 40:\n",
    "            print(\"You may work anywhere.\")\n",
    "        elif 40 < age <= 60:\n",
    "            print(\"You will work in urban areas only.\")\n",
    "    else:\n",
    "        print(\"Invalid gender input.\")\n"
   ]
  },
  {
   "cell_type": "markdown",
   "metadata": {},
   "source": [
    "6) Write a program to calculate the electricity bill (accept number of unit from user) according to the following criteria :\n",
    "     Unit                                                     Price  \n",
    "uptp 100 units                                             no charge\n",
    "Next 200 units                                              Rs 5 per unit\n",
    "After 200 units                                             Rs 10 per unit\n",
    "(For example if input unit is 350 than total bill amount is Rs.3500\n",
    "(For example if input unit is 97 than total bill amount is Rs.0\n",
    "(For example if input unit is 150 than total bill amount is Rs.750"
   ]
  },
  {
   "cell_type": "markdown",
   "metadata": {},
   "source": [
    "13) Take input of age of 3 people by user and determine oldest and youngest among them."
   ]
  },
  {
   "cell_type": "code",
   "execution_count": 26,
   "metadata": {},
   "outputs": [
    {
     "name": "stdin",
     "output_type": "stream",
     "text": [
      "Enter age of person 1:  23\n",
      "Enter age of person 2:  40\n",
      "Enter age of person 3:  55\n"
     ]
    },
    {
     "name": "stdout",
     "output_type": "stream",
     "text": [
      "The oldest person is 55 years old.\n",
      "The youngest person is 23 years old.\n"
     ]
    }
   ],
   "source": [
    "#Type your code here"
   ]
  },
  {
   "cell_type": "code",
   "execution_count": null,
   "metadata": {},
   "outputs": [],
   "source": []
  }
 ],
 "metadata": {
  "kernelspec": {
   "display_name": "Python 3 (ipykernel)",
   "language": "python",
   "name": "python3"
  },
  "language_info": {
   "codemirror_mode": {
    "name": "ipython",
    "version": 3
   },
   "file_extension": ".py",
   "mimetype": "text/x-python",
   "name": "python",
   "nbconvert_exporter": "python",
   "pygments_lexer": "ipython3",
   "version": "3.13.5"
  }
 },
 "nbformat": 4,
 "nbformat_minor": 4
}
